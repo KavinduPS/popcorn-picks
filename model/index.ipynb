{
 "cells": [
  {
   "cell_type": "code",
   "execution_count": 3,
   "id": "c56b9204",
   "metadata": {},
   "outputs": [
    {
     "data": {
      "text/html": [
       "<div>\n",
       "<style scoped>\n",
       "    .dataframe tbody tr th:only-of-type {\n",
       "        vertical-align: middle;\n",
       "    }\n",
       "\n",
       "    .dataframe tbody tr th {\n",
       "        vertical-align: top;\n",
       "    }\n",
       "\n",
       "    .dataframe thead th {\n",
       "        text-align: right;\n",
       "    }\n",
       "</style>\n",
       "<table border=\"1\" class=\"dataframe\">\n",
       "  <thead>\n",
       "    <tr style=\"text-align: right;\">\n",
       "      <th></th>\n",
       "      <th>director_name</th>\n",
       "      <th>actor_1_name</th>\n",
       "      <th>actor_2_name</th>\n",
       "      <th>actor_3_name</th>\n",
       "      <th>genres</th>\n",
       "      <th>movie_title</th>\n",
       "      <th>tags</th>\n",
       "    </tr>\n",
       "  </thead>\n",
       "  <tbody>\n",
       "    <tr>\n",
       "      <th>0</th>\n",
       "      <td>Gore Verbinski</td>\n",
       "      <td>Johnny Depp</td>\n",
       "      <td>Orlando Bloom</td>\n",
       "      <td>Jack Davenport</td>\n",
       "      <td>Action Adventure Fantasy</td>\n",
       "      <td>pirates of the caribbean: at world's end</td>\n",
       "      <td>Action Adventure Fantasy pirates of the caribb...</td>\n",
       "    </tr>\n",
       "    <tr>\n",
       "      <th>1</th>\n",
       "      <td>Sam Mendes</td>\n",
       "      <td>Christoph Waltz</td>\n",
       "      <td>Rory Kinnear</td>\n",
       "      <td>Stephanie Sigman</td>\n",
       "      <td>Action Adventure Thriller</td>\n",
       "      <td>spectre</td>\n",
       "      <td>Action Adventure Thriller spectre Christoph Wa...</td>\n",
       "    </tr>\n",
       "    <tr>\n",
       "      <th>2</th>\n",
       "      <td>Christopher Nolan</td>\n",
       "      <td>Tom Hardy</td>\n",
       "      <td>Christian Bale</td>\n",
       "      <td>Joseph Gordon-Levitt</td>\n",
       "      <td>Action Thriller</td>\n",
       "      <td>the dark knight rises</td>\n",
       "      <td>Action Thriller the dark knight rises Tom Hard...</td>\n",
       "    </tr>\n",
       "    <tr>\n",
       "      <th>3</th>\n",
       "      <td>Doug Walker</td>\n",
       "      <td>Doug Walker</td>\n",
       "      <td>Rob Walker</td>\n",
       "      <td>unknown</td>\n",
       "      <td>Documentary</td>\n",
       "      <td>star wars: episode vii - the force awakens    ...</td>\n",
       "      <td>Documentary star wars: episode vii - the force...</td>\n",
       "    </tr>\n",
       "    <tr>\n",
       "      <th>4</th>\n",
       "      <td>Andrew Stanton</td>\n",
       "      <td>Daryl Sabara</td>\n",
       "      <td>Samantha Morton</td>\n",
       "      <td>Polly Walker</td>\n",
       "      <td>Action Adventure Sci-Fi</td>\n",
       "      <td>john carter</td>\n",
       "      <td>Action Adventure Sci-Fi john carter Daryl Saba...</td>\n",
       "    </tr>\n",
       "  </tbody>\n",
       "</table>\n",
       "</div>"
      ],
      "text/plain": [
       "       director_name     actor_1_name     actor_2_name          actor_3_name  \\\n",
       "0     Gore Verbinski      Johnny Depp    Orlando Bloom        Jack Davenport   \n",
       "1         Sam Mendes  Christoph Waltz     Rory Kinnear      Stephanie Sigman   \n",
       "2  Christopher Nolan        Tom Hardy   Christian Bale  Joseph Gordon-Levitt   \n",
       "3        Doug Walker      Doug Walker       Rob Walker               unknown   \n",
       "4     Andrew Stanton     Daryl Sabara  Samantha Morton          Polly Walker   \n",
       "\n",
       "                      genres  \\\n",
       "0   Action Adventure Fantasy   \n",
       "1  Action Adventure Thriller   \n",
       "2            Action Thriller   \n",
       "3                Documentary   \n",
       "4    Action Adventure Sci-Fi   \n",
       "\n",
       "                                         movie_title  \\\n",
       "0           pirates of the caribbean: at world's end   \n",
       "1                                            spectre   \n",
       "2                              the dark knight rises   \n",
       "3  star wars: episode vii - the force awakens    ...   \n",
       "4                                        john carter   \n",
       "\n",
       "                                                tags  \n",
       "0  Action Adventure Fantasy pirates of the caribb...  \n",
       "1  Action Adventure Thriller spectre Christoph Wa...  \n",
       "2  Action Thriller the dark knight rises Tom Hard...  \n",
       "3  Documentary star wars: episode vii - the force...  \n",
       "4  Action Adventure Sci-Fi john carter Daryl Saba...  "
      ]
     },
     "execution_count": 3,
     "metadata": {},
     "output_type": "execute_result"
    }
   ],
   "source": [
    "import numpy as np\n",
    "import pandas as pd\n",
    "\n",
    "final_data = pd.read_csv('movie_dataset.csv')\n",
    "final_data.head()"
   ]
  },
  {
   "cell_type": "code",
   "execution_count": 4,
   "id": "b56d8bbd",
   "metadata": {},
   "outputs": [
    {
     "data": {
      "text/plain": [
       "array([[0, 0, 0, ..., 0, 0, 0],\n",
       "       [0, 0, 0, ..., 0, 0, 0],\n",
       "       [0, 0, 0, ..., 0, 0, 0],\n",
       "       ...,\n",
       "       [0, 0, 0, ..., 0, 0, 0],\n",
       "       [0, 0, 0, ..., 0, 0, 0],\n",
       "       [0, 0, 0, ..., 0, 0, 0]])"
      ]
     },
     "execution_count": 4,
     "metadata": {},
     "output_type": "execute_result"
    }
   ],
   "source": [
    "from sklearn.feature_extraction.text import CountVectorizer\n",
    "cv = CountVectorizer(max_features=6000, stop_words='english')\n",
    "\n",
    "vectors = cv.fit_transform(final_data['tags']).toarray()\n",
    "vectors"
   ]
  },
  {
   "cell_type": "code",
   "execution_count": 9,
   "id": "973f2863",
   "metadata": {},
   "outputs": [],
   "source": [
    "import nltk\n",
    "from nltk.stem.porter import PorterStemmer\n",
    "\n",
    "ps = PorterStemmer()\n",
    "\n",
    "def stemmer(text):\n",
    "    stemmed_words= []\n",
    "    string = ''\n",
    "\n",
    "    for word in text.split():\n",
    "        stemmed_words.append(ps.stem(word))\n",
    "    return string.join(stemmed_words)\n",
    "\n",
    "final_data['tags'] = final_data['tags'].map(lambda x: stemmer(x))"
   ]
  },
  {
   "cell_type": "code",
   "execution_count": 10,
   "id": "e97da677",
   "metadata": {},
   "outputs": [
    {
     "data": {
      "text/plain": [
       "array(['000', '10', '11', ..., 'åkerman', 'édgar', 'óscar'], dtype=object)"
      ]
     },
     "execution_count": 10,
     "metadata": {},
     "output_type": "execute_result"
    }
   ],
   "source": [
    "cv.get_feature_names_out()"
   ]
  },
  {
   "cell_type": "code",
   "execution_count": null,
   "id": "c2ad7cb2",
   "metadata": {},
   "outputs": [],
   "source": [
    "from sklearn.metrics.pairwise import cosine_similarity\n",
    "similarity = cosine_similarity(vectors)"
   ]
  },
  {
   "cell_type": "code",
   "execution_count": 17,
   "id": "3fef82b9",
   "metadata": {},
   "outputs": [],
   "source": [
    "def recommend(movie):\n",
    "    movie_index = final_data[final_data['movie_title'] == movie].index[0]\n",
    "    distances = similarity[movie_index]\n",
    "\n",
    "    recommended_movie_list = sorted(list(enumerate(distances)), reverse=True, key=lambda x: x[1])[1:9]\n",
    "\n",
    "    for movie in recommended_movie_list:\n",
    "        print(final_data.iloc[movie[0]].movie_title)"
   ]
  },
  {
   "cell_type": "code",
   "execution_count": 18,
   "id": "87af8d5a",
   "metadata": {},
   "outputs": [
    {
     "name": "stdout",
     "output_type": "stream",
     "text": [
      "spider-man\n",
      "spider-man 3\n",
      "oz the great and powerful\n",
      "final fantasy: the spirits within\n",
      "the amazing spider-man\n",
      "flyboys\n",
      "maleficent\n",
      "the amazing spider-man 2\n"
     ]
    }
   ],
   "source": [
    "recommend('spider-man')"
   ]
  },
  {
   "cell_type": "code",
   "execution_count": null,
   "id": "df729dce",
   "metadata": {},
   "outputs": [],
   "source": [
    "import pickle\n",
    "\n",
    "pickle.dump(final_data.to_dict(), open('final_data_dict.pkl', 'wb'))\n",
    "pickle.dump(similarity, open('similarity.pkl','wb'))"
   ]
  }
 ],
 "metadata": {
  "kernelspec": {
   "display_name": "venv",
   "language": "python",
   "name": "python3"
  },
  "language_info": {
   "codemirror_mode": {
    "name": "ipython",
    "version": 3
   },
   "file_extension": ".py",
   "mimetype": "text/x-python",
   "name": "python",
   "nbconvert_exporter": "python",
   "pygments_lexer": "ipython3",
   "version": "3.9.6"
  }
 },
 "nbformat": 4,
 "nbformat_minor": 5
}
